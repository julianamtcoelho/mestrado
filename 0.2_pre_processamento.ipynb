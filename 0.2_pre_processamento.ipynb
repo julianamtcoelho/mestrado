{
 "cells": [
  {
   "cell_type": "code",
   "execution_count": 1,
   "metadata": {},
   "outputs": [],
   "source": [
    "import pandas as pd\n",
    "import os\n",
    "import cv2\n",
    "import tensorflow as tf\n",
    "import autokeras as ak\n"
   ]
  },
  {
   "cell_type": "code",
   "execution_count": 2,
   "metadata": {},
   "outputs": [
    {
     "output_type": "execute_result",
     "data": {
      "text/plain": [
       "2"
      ]
     },
     "metadata": {},
     "execution_count": 2
    }
   ],
   "source": [
    "1+1"
   ]
  },
  {
   "cell_type": "code",
   "execution_count": 6,
   "metadata": {
    "tags": []
   },
   "outputs": [],
   "source": [
    "# specify your path of directory\n",
    "path = r\"/home/cenpes/1500x2200/\"\n",
    "scale_percent = 0.60 # percent of original size\n",
    "width = int(2000 * scale_percent / 100)\n",
    "height = int(1500 * scale_percent / 100)\n",
    "dim = (width, height)\n",
    "  \n",
    "# resize image\n",
    "\n",
    "# call listdir() method\n",
    "# path is a directory of which you want to list\n",
    "directories = os.listdir( path )\n",
    "# This would print all the files and directories\n",
    "X_train=[]\n",
    "y_train=[]\n",
    "for file in directories:\n",
    "    x = file.split(\"-\")\n",
    "    pol=x[2]\n",
    "    x=x[3]\n",
    "    x=x.split(\"_\")\n",
    "    lito=x[0]\n",
    "    #print(lito)\n",
    "    #print(pol)\n",
    "    if ( (pol=='False') & (('GRAINSTONE' in lito)|('ESFER' in lito ))):\n",
    "        l=path+file\n",
    "        img = cv2.imread(l,cv2.COLOR_BGR2RGB)\n",
    "        img = cv2.resize(img, dim, interpolation = cv2.INTER_AREA) \n",
    "        X_train.append(img)\n",
    "        y_train.append('GRAINSTONE')\n",
    "        #cv2.imwrite(grain+file,img)\n",
    "    if ( (pol=='False') & ('LAMINITO' in lito )):\n",
    "        l=path+file\n",
    "        img = cv2.imread(l,cv2.COLOR_BGR2RGB)\n",
    "        img = cv2.resize(img, dim, interpolation = cv2.INTER_AREA) \n",
    "        #cv2.imwrite(lami+file,img)\n",
    "        X_train.append(img)\n",
    "        y_train.append('LAMINITO')\n",
    "    if ( (pol=='False') & ('MATOLITO' in lito)):\n",
    "        l=path+file\n",
    "        img = cv2.imread(l,cv2.COLOR_BGR2RGB)\n",
    "        img = cv2.resize(img, dim, interpolation = cv2.INTER_AREA) \n",
    "        X_train.append(img)\n",
    "        y_train.append('ESTROMATOLITO')\n"
   ]
  },
  {
   "cell_type": "code",
   "execution_count": 7,
   "metadata": {},
   "outputs": [],
   "source": [
    "from sklearn.model_selection import train_test_split\n",
    "X_train, X_test, y_train, y_test = train_test_split(X_train, y_train, test_size=0.33, random_state=42)"
   ]
  },
  {
   "cell_type": "code",
   "execution_count": 8,
   "metadata": {},
   "outputs": [
    {
     "output_type": "execute_result",
     "data": {
      "text/plain": [
       "227"
      ]
     },
     "metadata": {},
     "execution_count": 8
    }
   ],
   "source": [
    "len(y_test)"
   ]
  },
  {
   "cell_type": "code",
   "execution_count": 9,
   "metadata": {},
   "outputs": [
    {
     "output_type": "stream",
     "name": "stdout",
     "text": [
      "88\n119\n20\n"
     ]
    }
   ],
   "source": [
    "print(y_test.count('ESTROMATOLITO'))\n",
    "print(y_test.count('GRAINSTONE'))\n",
    "print(y_test.count('LAMINITO'))\n"
   ]
  },
  {
   "cell_type": "code",
   "execution_count": 10,
   "metadata": {},
   "outputs": [],
   "source": [
    "import numpy as np\n",
    "from sklearn import preprocessing\n",
    "le = preprocessing.LabelEncoder()\n",
    "y_train=le.fit_transform(y_train)\n",
    "y_train=np.array(y_train)"
   ]
  },
  {
   "cell_type": "code",
   "execution_count": 11,
   "metadata": {},
   "outputs": [],
   "source": [
    "X_train=np.array(X_train)"
   ]
  },
  {
   "cell_type": "code",
   "execution_count": 12,
   "metadata": {},
   "outputs": [
    {
     "output_type": "stream",
     "name": "stdout",
     "text": [
      "Trial 10 Complete [00h 00m 05s]\n",
      "val_loss: 1.0072739124298096\n",
      "\n",
      "Best val_loss So Far: 0.7086137533187866\n",
      "Total elapsed time: 02h 08m 38s\n",
      "INFO:tensorflow:Oracle triggered exit\n",
      "Epoch 1/100\n",
      "15/15 [==============================] - 1s 10ms/step - loss: 0.9999 - accuracy: 0.5480\n",
      "Epoch 2/100\n",
      "15/15 [==============================] - 0s 10ms/step - loss: 0.8965 - accuracy: 0.5721\n",
      "Epoch 3/100\n",
      "15/15 [==============================] - 0s 10ms/step - loss: 0.8571 - accuracy: 0.5873\n",
      "Epoch 4/100\n",
      "15/15 [==============================] - 0s 10ms/step - loss: 0.8567 - accuracy: 0.6135\n",
      "Epoch 5/100\n",
      "15/15 [==============================] - 0s 10ms/step - loss: 0.8431 - accuracy: 0.6201\n",
      "Epoch 6/100\n",
      "15/15 [==============================] - 0s 10ms/step - loss: 0.8182 - accuracy: 0.6397\n",
      "Epoch 7/100\n",
      "15/15 [==============================] - 0s 10ms/step - loss: 0.8210 - accuracy: 0.6179\n",
      "Epoch 8/100\n",
      "15/15 [==============================] - 0s 10ms/step - loss: 0.8358 - accuracy: 0.6157\n",
      "Epoch 9/100\n",
      "15/15 [==============================] - 0s 11ms/step - loss: 0.8103 - accuracy: 0.6572\n",
      "Epoch 10/100\n",
      "15/15 [==============================] - 0s 10ms/step - loss: 0.7629 - accuracy: 0.6812\n",
      "Epoch 11/100\n",
      "15/15 [==============================] - 0s 11ms/step - loss: 0.7903 - accuracy: 0.6594\n",
      "Epoch 12/100\n",
      "15/15 [==============================] - 0s 10ms/step - loss: 0.7826 - accuracy: 0.6419\n",
      "Epoch 13/100\n",
      "15/15 [==============================] - 0s 10ms/step - loss: 0.7355 - accuracy: 0.6856\n",
      "Epoch 14/100\n",
      "15/15 [==============================] - 0s 10ms/step - loss: 0.7368 - accuracy: 0.6594\n",
      "Epoch 15/100\n",
      "15/15 [==============================] - 0s 10ms/step - loss: 0.7445 - accuracy: 0.6812\n",
      "Epoch 16/100\n",
      "15/15 [==============================] - 0s 10ms/step - loss: 0.7224 - accuracy: 0.7118\n",
      "Epoch 17/100\n",
      "15/15 [==============================] - 0s 10ms/step - loss: 0.7062 - accuracy: 0.7118\n",
      "Epoch 18/100\n",
      "15/15 [==============================] - 0s 10ms/step - loss: 0.6862 - accuracy: 0.7118\n",
      "Epoch 19/100\n",
      "15/15 [==============================] - 0s 10ms/step - loss: 0.6692 - accuracy: 0.7271\n",
      "Epoch 20/100\n",
      "15/15 [==============================] - 0s 10ms/step - loss: 0.6699 - accuracy: 0.7380\n",
      "Epoch 21/100\n",
      "15/15 [==============================] - 0s 10ms/step - loss: 0.6649 - accuracy: 0.7249\n",
      "Epoch 22/100\n",
      "15/15 [==============================] - 0s 10ms/step - loss: 0.6318 - accuracy: 0.7555\n",
      "Epoch 23/100\n",
      "15/15 [==============================] - 0s 10ms/step - loss: 0.6412 - accuracy: 0.7183\n",
      "Epoch 24/100\n",
      "15/15 [==============================] - 0s 10ms/step - loss: 0.6051 - accuracy: 0.7555\n",
      "Epoch 25/100\n",
      "15/15 [==============================] - 0s 10ms/step - loss: 0.6041 - accuracy: 0.7664\n",
      "Epoch 26/100\n",
      "15/15 [==============================] - 0s 10ms/step - loss: 0.6221 - accuracy: 0.7183\n",
      "Epoch 27/100\n",
      "15/15 [==============================] - 0s 10ms/step - loss: 0.5860 - accuracy: 0.7445\n",
      "Epoch 28/100\n",
      "15/15 [==============================] - 0s 10ms/step - loss: 0.5811 - accuracy: 0.7751\n",
      "Epoch 29/100\n",
      "15/15 [==============================] - 0s 10ms/step - loss: 0.5826 - accuracy: 0.7555\n",
      "Epoch 30/100\n",
      "15/15 [==============================] - 0s 10ms/step - loss: 0.5716 - accuracy: 0.7511\n",
      "Epoch 31/100\n",
      "15/15 [==============================] - 0s 10ms/step - loss: 0.5562 - accuracy: 0.7817\n",
      "Epoch 32/100\n",
      "15/15 [==============================] - 0s 10ms/step - loss: 0.5348 - accuracy: 0.8013\n",
      "Epoch 33/100\n",
      "15/15 [==============================] - 0s 11ms/step - loss: 0.5315 - accuracy: 0.7795\n",
      "Epoch 34/100\n",
      "15/15 [==============================] - 0s 11ms/step - loss: 0.5325 - accuracy: 0.7904\n",
      "Epoch 35/100\n",
      "15/15 [==============================] - 0s 10ms/step - loss: 0.5364 - accuracy: 0.7882\n",
      "Epoch 36/100\n",
      "15/15 [==============================] - 0s 10ms/step - loss: 0.5183 - accuracy: 0.8013\n",
      "Epoch 37/100\n",
      "15/15 [==============================] - 0s 10ms/step - loss: 0.4897 - accuracy: 0.8253\n",
      "Epoch 38/100\n",
      "15/15 [==============================] - 0s 10ms/step - loss: 0.4982 - accuracy: 0.8057\n",
      "Epoch 39/100\n",
      "15/15 [==============================] - 0s 10ms/step - loss: 0.4887 - accuracy: 0.8122\n",
      "Epoch 40/100\n",
      "15/15 [==============================] - 0s 10ms/step - loss: 0.4759 - accuracy: 0.8231\n",
      "Epoch 41/100\n",
      "15/15 [==============================] - 0s 11ms/step - loss: 0.4655 - accuracy: 0.8275\n",
      "Epoch 42/100\n",
      "15/15 [==============================] - 0s 11ms/step - loss: 0.4713 - accuracy: 0.8100\n",
      "Epoch 43/100\n",
      "15/15 [==============================] - 0s 11ms/step - loss: 0.4558 - accuracy: 0.8275\n",
      "Epoch 44/100\n",
      "15/15 [==============================] - 0s 10ms/step - loss: 0.4659 - accuracy: 0.8231\n",
      "Epoch 45/100\n",
      "15/15 [==============================] - 0s 11ms/step - loss: 0.4636 - accuracy: 0.8319\n",
      "Epoch 46/100\n",
      "15/15 [==============================] - 0s 10ms/step - loss: 0.4665 - accuracy: 0.8297\n",
      "Epoch 47/100\n",
      "15/15 [==============================] - 0s 10ms/step - loss: 0.4512 - accuracy: 0.8253\n",
      "Epoch 48/100\n",
      "15/15 [==============================] - 0s 10ms/step - loss: 0.4561 - accuracy: 0.8166\n",
      "Epoch 49/100\n",
      "15/15 [==============================] - 0s 10ms/step - loss: 0.4378 - accuracy: 0.8319\n",
      "Epoch 50/100\n",
      "15/15 [==============================] - 0s 10ms/step - loss: 0.4225 - accuracy: 0.8384\n",
      "Epoch 51/100\n",
      "15/15 [==============================] - 0s 10ms/step - loss: 0.3899 - accuracy: 0.8624\n",
      "Epoch 52/100\n",
      "15/15 [==============================] - 0s 10ms/step - loss: 0.3958 - accuracy: 0.8428\n",
      "Epoch 53/100\n",
      "15/15 [==============================] - 0s 10ms/step - loss: 0.4174 - accuracy: 0.8341\n",
      "Epoch 54/100\n",
      "15/15 [==============================] - 0s 10ms/step - loss: 0.3806 - accuracy: 0.8581\n",
      "Epoch 55/100\n",
      "15/15 [==============================] - 0s 11ms/step - loss: 0.3829 - accuracy: 0.8406\n",
      "Epoch 56/100\n",
      "15/15 [==============================] - 0s 11ms/step - loss: 0.4020 - accuracy: 0.8603\n",
      "Epoch 57/100\n",
      "15/15 [==============================] - 0s 10ms/step - loss: 0.3833 - accuracy: 0.8537\n",
      "Epoch 58/100\n",
      "15/15 [==============================] - 0s 10ms/step - loss: 0.3470 - accuracy: 0.8646\n",
      "Epoch 59/100\n",
      "15/15 [==============================] - 0s 10ms/step - loss: 0.3719 - accuracy: 0.8559\n",
      "Epoch 60/100\n",
      "15/15 [==============================] - 0s 10ms/step - loss: 0.3740 - accuracy: 0.8319\n",
      "Epoch 61/100\n",
      "15/15 [==============================] - 0s 10ms/step - loss: 0.3793 - accuracy: 0.8690\n",
      "Epoch 62/100\n",
      "15/15 [==============================] - 0s 10ms/step - loss: 0.3515 - accuracy: 0.8603\n",
      "Epoch 63/100\n",
      "15/15 [==============================] - 0s 10ms/step - loss: 0.3538 - accuracy: 0.8690\n",
      "Epoch 64/100\n",
      "15/15 [==============================] - 0s 10ms/step - loss: 0.3494 - accuracy: 0.8690\n",
      "Epoch 65/100\n",
      "15/15 [==============================] - 0s 10ms/step - loss: 0.3573 - accuracy: 0.8821\n",
      "Epoch 66/100\n",
      "15/15 [==============================] - 0s 10ms/step - loss: 0.3373 - accuracy: 0.8690\n",
      "Epoch 67/100\n",
      "15/15 [==============================] - 0s 10ms/step - loss: 0.3390 - accuracy: 0.8668\n",
      "Epoch 68/100\n",
      "15/15 [==============================] - 0s 11ms/step - loss: 0.3389 - accuracy: 0.8821\n",
      "Epoch 69/100\n",
      "15/15 [==============================] - 0s 10ms/step - loss: 0.3244 - accuracy: 0.8734\n",
      "Epoch 70/100\n",
      "15/15 [==============================] - 0s 11ms/step - loss: 0.3097 - accuracy: 0.8908\n",
      "Epoch 71/100\n",
      "15/15 [==============================] - 0s 10ms/step - loss: 0.3120 - accuracy: 0.8755\n",
      "Epoch 72/100\n",
      "15/15 [==============================] - 0s 11ms/step - loss: 0.3080 - accuracy: 0.8908\n",
      "Epoch 73/100\n",
      "15/15 [==============================] - 0s 10ms/step - loss: 0.3030 - accuracy: 0.8952\n",
      "Epoch 74/100\n",
      "15/15 [==============================] - 0s 10ms/step - loss: 0.2941 - accuracy: 0.8974\n",
      "Epoch 75/100\n",
      "15/15 [==============================] - 0s 10ms/step - loss: 0.3018 - accuracy: 0.8755\n",
      "Epoch 76/100\n",
      "15/15 [==============================] - 0s 10ms/step - loss: 0.2824 - accuracy: 0.8952\n",
      "Epoch 77/100\n",
      "15/15 [==============================] - 0s 11ms/step - loss: 0.2909 - accuracy: 0.8930\n",
      "Epoch 78/100\n",
      "15/15 [==============================] - 0s 11ms/step - loss: 0.2784 - accuracy: 0.8930\n",
      "Epoch 79/100\n",
      "15/15 [==============================] - 0s 10ms/step - loss: 0.2813 - accuracy: 0.8952\n",
      "Epoch 80/100\n",
      "15/15 [==============================] - 0s 10ms/step - loss: 0.2620 - accuracy: 0.9148\n",
      "Epoch 81/100\n",
      "15/15 [==============================] - 0s 10ms/step - loss: 0.2749 - accuracy: 0.8996\n",
      "Epoch 82/100\n",
      "15/15 [==============================] - 0s 11ms/step - loss: 0.3313 - accuracy: 0.8755\n",
      "Epoch 83/100\n",
      "15/15 [==============================] - 0s 10ms/step - loss: 0.3032 - accuracy: 0.8734\n",
      "Epoch 84/100\n",
      "15/15 [==============================] - 0s 10ms/step - loss: 0.2991 - accuracy: 0.8734\n",
      "Epoch 85/100\n",
      "15/15 [==============================] - 0s 10ms/step - loss: 0.2720 - accuracy: 0.9083\n",
      "Epoch 86/100\n",
      "15/15 [==============================] - 0s 10ms/step - loss: 0.2503 - accuracy: 0.8930\n",
      "Epoch 87/100\n",
      "15/15 [==============================] - 0s 10ms/step - loss: 0.2637 - accuracy: 0.8996\n",
      "Epoch 88/100\n",
      "15/15 [==============================] - 0s 11ms/step - loss: 0.2462 - accuracy: 0.9105\n",
      "Epoch 89/100\n",
      "15/15 [==============================] - 0s 11ms/step - loss: 0.2574 - accuracy: 0.9017\n",
      "Epoch 90/100\n",
      "15/15 [==============================] - 0s 10ms/step - loss: 0.2551 - accuracy: 0.9039\n",
      "Epoch 91/100\n",
      "15/15 [==============================] - 0s 10ms/step - loss: 0.2657 - accuracy: 0.9061\n",
      "Epoch 92/100\n",
      "15/15 [==============================] - 0s 10ms/step - loss: 0.2491 - accuracy: 0.8996\n",
      "Epoch 93/100\n",
      "15/15 [==============================] - 0s 10ms/step - loss: 0.2195 - accuracy: 0.9301\n",
      "Epoch 94/100\n",
      "15/15 [==============================] - 0s 10ms/step - loss: 0.2345 - accuracy: 0.9061\n",
      "Epoch 95/100\n",
      "15/15 [==============================] - 0s 10ms/step - loss: 0.2150 - accuracy: 0.9083\n",
      "Epoch 96/100\n",
      "15/15 [==============================] - 0s 10ms/step - loss: 0.2387 - accuracy: 0.9170\n",
      "Epoch 97/100\n",
      "15/15 [==============================] - 0s 10ms/step - loss: 0.2446 - accuracy: 0.9148\n",
      "Epoch 98/100\n",
      "15/15 [==============================] - 0s 10ms/step - loss: 0.2326 - accuracy: 0.9061\n",
      "Epoch 99/100\n",
      "15/15 [==============================] - 0s 10ms/step - loss: 0.2248 - accuracy: 0.9148\n",
      "Epoch 100/100\n",
      "15/15 [==============================] - 0s 10ms/step - loss: 0.2415 - accuracy: 0.9105\n",
      "INFO:tensorflow:Assets written to: ./image_classifier/best_model/assets\n"
     ]
    }
   ],
   "source": [
    "# Initialize the image classifier.\n",
    "clf = ak.ImageClassifier(\n",
    "    overwrite=True,\n",
    "    max_trials=10)\n",
    "# Feed the image classifier with training data.\n",
    "clf.fit(X_train, y_train, epochs=100)\n"
   ]
  },
  {
   "cell_type": "code",
   "execution_count": 13,
   "metadata": {},
   "outputs": [
    {
     "output_type": "stream",
     "name": "stdout",
     "text": [
      "<class 'tensorflow.python.keras.engine.functional.Functional'>\n"
     ]
    }
   ],
   "source": [
    "model = clf.export_model()\n",
    "\n",
    "print(type(model))  # <class 'tensorflow.python.keras.engine.training.Model'>\n",
    "\n",
    "model.save(\"model_autokeras.h5\")"
   ]
  },
  {
   "cell_type": "code",
   "execution_count": 14,
   "metadata": {},
   "outputs": [
    {
     "output_type": "stream",
     "name": "stdout",
     "text": [
      "8/8 [==============================] - 0s 5ms/step\n"
     ]
    }
   ],
   "source": [
    "X_test=np.array(X_test)\n",
    "y_pred=clf.predict(X_test)"
   ]
  },
  {
   "cell_type": "code",
   "execution_count": 15,
   "metadata": {},
   "outputs": [],
   "source": [
    "y_test=le.transform(y_test)"
   ]
  },
  {
   "cell_type": "code",
   "execution_count": 16,
   "metadata": {},
   "outputs": [
    {
     "output_type": "execute_result",
     "data": {
      "text/plain": [
       "array([1, 1, 0, 1, 0, 1, 0, 2, 1, 2, 0, 1, 1, 1, 1, 0, 0, 1, 0, 1, 2, 1,\n",
       "       1, 2, 1, 0, 0, 1, 0, 1, 0, 1, 1, 1, 0, 0, 1, 1, 1, 0, 1, 0, 1, 0,\n",
       "       0, 0, 1, 1, 0, 0, 2, 0, 1, 0, 1, 1, 1, 1, 0, 1, 0, 1, 1, 1, 0, 2,\n",
       "       2, 1, 0, 0, 0, 1, 0, 0, 1, 0, 1, 1, 1, 2, 0, 0, 0, 1, 1, 0, 1, 0,\n",
       "       1, 0, 1, 1, 0, 1, 0, 0, 2, 1, 2, 1, 1, 0, 1, 0, 0, 1, 1, 1, 0, 1,\n",
       "       1, 0, 1, 1, 0, 1, 0, 1, 1, 1, 0, 1, 1, 1, 0, 0, 1, 1, 0, 1, 0, 0,\n",
       "       1, 1, 0, 0, 1, 0, 0, 0, 0, 2, 1, 1, 1, 1, 0, 1, 0, 0, 0, 1, 0, 2,\n",
       "       0, 0, 1, 1, 0, 1, 1, 2, 0, 0, 0, 0, 0, 1, 2, 0, 0, 0, 0, 1, 1, 1,\n",
       "       1, 1, 2, 0, 1, 0, 1, 1, 1, 0, 1, 1, 1, 1, 1, 2, 1, 1, 2, 0, 1, 2,\n",
       "       1, 1, 1, 1, 1, 1, 0, 1, 0, 1, 1, 0, 1, 0, 0, 1, 1, 2, 1, 1, 0, 1,\n",
       "       0, 1, 2, 1, 1, 1, 0])"
      ]
     },
     "metadata": {},
     "execution_count": 16
    }
   ],
   "source": [
    "y_test"
   ]
  },
  {
   "cell_type": "code",
   "execution_count": 17,
   "metadata": {},
   "outputs": [],
   "source": [
    "from sklearn.metrics import confusion_matrix"
   ]
  },
  {
   "cell_type": "code",
   "execution_count": 18,
   "metadata": {},
   "outputs": [],
   "source": [
    "y_pred=y_pred.ravel()"
   ]
  },
  {
   "cell_type": "code",
   "execution_count": 19,
   "metadata": {},
   "outputs": [],
   "source": [
    "y_pred=y_pred.astype(int)"
   ]
  },
  {
   "cell_type": "code",
   "execution_count": 20,
   "metadata": {},
   "outputs": [
    {
     "output_type": "execute_result",
     "data": {
      "text/plain": [
       "array([[41, 47,  0],\n",
       "       [28, 91,  0],\n",
       "       [ 3, 14,  3]])"
      ]
     },
     "metadata": {},
     "execution_count": 20
    }
   ],
   "source": [
    "confusion_matrix(y_test,y_pred)"
   ]
  },
  {
   "cell_type": "code",
   "execution_count": 21,
   "metadata": {},
   "outputs": [
    {
     "output_type": "execute_result",
     "data": {
      "text/plain": [
       "0.5947136563876652"
      ]
     },
     "metadata": {},
     "execution_count": 21
    }
   ],
   "source": [
    "from sklearn.metrics import accuracy_score\n",
    "accuracy_score(y_test, y_pred)"
   ]
  },
  {
   "cell_type": "code",
   "execution_count": null,
   "metadata": {},
   "outputs": [],
   "source": []
  }
 ],
 "metadata": {
  "kernelspec": {
   "display_name": "Python 3",
   "language": "python",
   "name": "python3"
  },
  "language_info": {
   "codemirror_mode": {
    "name": "ipython",
    "version": 3
   },
   "file_extension": ".py",
   "mimetype": "text/x-python",
   "name": "python",
   "nbconvert_exporter": "python",
   "pygments_lexer": "ipython3",
   "version": "3.6.9"
  }
 },
 "nbformat": 4,
 "nbformat_minor": 4
}