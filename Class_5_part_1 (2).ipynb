{
 "cells": [
  {
   "cell_type": "markdown",
   "metadata": {
    "application/vnd.databricks.v1+cell": {
     "cellMetadata": {
      "byteLimit": 2048000,
      "rowLimit": 10000
     },
     "inputWidgets": {},
     "nuid": "c781f088-cf73-4548-9b1b-cb03a339b7b7",
     "showTitle": false,
     "title": ""
    }
   },
   "source": [
    "## Recalling what we talked about last class...missing data!\n",
    "Very often we have to deal with datasets that aren't ready for data analysis in the real world. One of the reasons is missing data, it consists in no data/ no value stored in certain observations within a variable.\n",
    "\n",
    "We saw that missig data has **different sources**: it can be missing completely at random (MCAR),  almost-randomly (MAR) or it can involves a systematic loss of data (MNAR). Moreover, we saw two different ways to deal with this problem: **Complete Case Analysis** or CCA (which consists in discarding observations) and **mean / median imputation**. \n",
    "\n",
    "Now, let's see more robust ways to deal with missing data, such as **KNN Imputation** and **Iterative Imputation**.\n",
    "\n",
    "Let's start by identifying the missing values on a Predictive Maintenance dataset."
   ]
  },
  {
   "cell_type": "code",
   "execution_count": 0,
   "metadata": {
    "application/vnd.databricks.v1+cell": {
     "cellMetadata": {
      "byteLimit": 2048000,
      "rowLimit": 10000
     },
     "inputWidgets": {},
     "nuid": "80d81370-19b4-4e66-9318-31329cbd2f50",
     "showTitle": false,
     "title": ""
    }
   },
   "outputs": [],
   "source": [
    "pip install -U missingno"
   ]
  },
  {
   "cell_type": "code",
   "execution_count": 0,
   "metadata": {
    "application/vnd.databricks.v1+cell": {
     "cellMetadata": {
      "byteLimit": 2048000,
      "rowLimit": 10000
     },
     "inputWidgets": {},
     "nuid": "63718d8e-8b2c-4010-a50b-3ce2f1e8ac8c",
     "showTitle": false,
     "title": ""
    }
   },
   "outputs": [],
   "source": [
    "import pandas as pd\n",
    "import seaborn as sns\n",
    "import matplotlib.pyplot as plt"
   ]
  },
  {
   "cell_type": "code",
   "execution_count": 0,
   "metadata": {
    "application/vnd.databricks.v1+cell": {
     "cellMetadata": {
      "byteLimit": 2048000,
      "rowLimit": 10000
     },
     "inputWidgets": {},
     "nuid": "f78c326a-7c0f-449d-b1be-24a8bda0bfee",
     "showTitle": false,
     "title": ""
    }
   },
   "outputs": [],
   "source": [
    "path = '/dbfs/FileStore/CDS2023/predictive_maintenance.csv'\n",
    "data = pd.read_csv(path)\n",
    "data.head()"
   ]
  },
  {
   "cell_type": "code",
   "execution_count": 0,
   "metadata": {
    "application/vnd.databricks.v1+cell": {
     "cellMetadata": {
      "byteLimit": 2048000,
      "rowLimit": 10000
     },
     "inputWidgets": {},
     "nuid": "52a295c8-36a4-41fe-a1ff-ded29456599d",
     "showTitle": false,
     "title": ""
    }
   },
   "outputs": [],
   "source": [
    "data.columns"
   ]
  },
  {
   "cell_type": "code",
   "execution_count": 0,
   "metadata": {
    "application/vnd.databricks.v1+cell": {
     "cellMetadata": {
      "byteLimit": 2048000,
      "rowLimit": 10000
     },
     "inputWidgets": {},
     "nuid": "d2fa60e0-7174-4da4-b557-05fc5178eac2",
     "showTitle": false,
     "title": ""
    }
   },
   "outputs": [],
   "source": [
    "data=data.drop(columns=['Product ID','Type'])"
   ]
  },
  {
   "cell_type": "code",
   "execution_count": 0,
   "metadata": {
    "application/vnd.databricks.v1+cell": {
     "cellMetadata": {
      "byteLimit": 2048000,
      "rowLimit": 10000
     },
     "inputWidgets": {},
     "nuid": "e0c3e798-d8f6-4c89-9847-42889e3329ac",
     "showTitle": false,
     "title": ""
    }
   },
   "outputs": [],
   "source": [
    "data"
   ]
  },
  {
   "cell_type": "markdown",
   "metadata": {
    "application/vnd.databricks.v1+cell": {
     "cellMetadata": {
      "byteLimit": 2048000,
      "rowLimit": 10000
     },
     "inputWidgets": {},
     "nuid": "32754609-eb11-4178-84d1-565e476b47cf",
     "showTitle": false,
     "title": ""
    }
   },
   "source": [
    "Let's plot a matrix that shows how nulls are scattered accross the dataset."
   ]
  },
  {
   "cell_type": "code",
   "execution_count": 0,
   "metadata": {
    "application/vnd.databricks.v1+cell": {
     "cellMetadata": {
      "byteLimit": 2048000,
      "rowLimit": 10000
     },
     "inputWidgets": {},
     "nuid": "1b7d4e82-640b-452f-b237-8070c3a477f3",
     "showTitle": false,
     "title": ""
    }
   },
   "outputs": [],
   "source": [
    "import missingno as msno\n",
    "msno.matrix(data);"
   ]
  },
  {
   "cell_type": "markdown",
   "metadata": {
    "application/vnd.databricks.v1+cell": {
     "cellMetadata": {
      "byteLimit": 2048000,
      "rowLimit": 10000
     },
     "inputWidgets": {},
     "nuid": "fcf3066e-20f9-4d4b-b4b4-bf85d799d5cc",
     "showTitle": false,
     "title": ""
    }
   },
   "source": [
    "We can also see if there's correlation between the missingness of the variables using a heatmap."
   ]
  },
  {
   "cell_type": "code",
   "execution_count": 0,
   "metadata": {
    "application/vnd.databricks.v1+cell": {
     "cellMetadata": {
      "byteLimit": 2048000,
      "rowLimit": 10000
     },
     "inputWidgets": {},
     "nuid": "5935eeec-a128-4b77-b76c-09b58dfcb86a",
     "showTitle": false,
     "title": ""
    }
   },
   "outputs": [],
   "source": [
    "msno.heatmap(data)"
   ]
  },
  {
   "cell_type": "markdown",
   "metadata": {
    "application/vnd.databricks.v1+cell": {
     "cellMetadata": {
      "byteLimit": 2048000,
      "rowLimit": 10000
     },
     "inputWidgets": {},
     "nuid": "8d5f2387-bf0c-46a6-bdbd-dfbeb48b0437",
     "showTitle": false,
     "title": ""
    }
   },
   "source": [
    "As we can see from the heatmap, the missingness of the 3 variables aren't correlated."
   ]
  },
  {
   "cell_type": "markdown",
   "metadata": {
    "application/vnd.databricks.v1+cell": {
     "cellMetadata": {
      "byteLimit": 2048000,
      "rowLimit": 10000
     },
     "inputWidgets": {},
     "nuid": "d657c77d-a8cd-4a43-9ac1-07d174a0b826",
     "showTitle": false,
     "title": ""
    }
   },
   "source": [
    "## Imputing with KNN Imputer\n",
    "\n",
    "It's a method for imputing numeric values based on an algorithm from Sklearn: *KNN Imputer*. KNN stands for **K-Nearest Neighbors**. That is to say, it tries to predict the value of numeric nullity by averaging the distances between its k nearest neighbors. \n",
    "\n",
    "But what is the idea behind this concept?\n",
    "![alt text](https://urldefense.com/v3/__https://www.ibm.com/content/dam/connectedassets-adobe-cms/worldwide-content/cdp/cf/ul/g/ef/3a/KNN.component.l.ts=1653407890466.png/content/adobe-cms/us/en/topics/knn/jcr:content/root/table_of_contents/intro/complex_narrative/items/content_group/image__;!!D5dmWrNzYg!L9U_tgz4muzYIdWWOUOBkeemrTncdyadBUgXLUZIgd-bYBCLAWdzkNcB1z0AWWVgNanz43waWrkluqCoWA7oUg$ )"
   ]
  },
  {
   "cell_type": "code",
   "execution_count": 0,
   "metadata": {
    "application/vnd.databricks.v1+cell": {
     "cellMetadata": {
      "byteLimit": 2048000,
      "rowLimit": 10000
     },
     "inputWidgets": {},
     "nuid": "e914cb8b-0f95-47be-83c8-93a9fa00e3ae",
     "showTitle": false,
     "title": ""
    }
   },
   "outputs": [],
   "source": [
    "from sklearn.impute import KNNImputer\n",
    "\n",
    "# Copy the data\n",
    "prediction_knn_imputed = data.copy(deep=True)\n",
    "\n",
    "# Init the transformer\n",
    "knn_imp = KNNImputer(n_neighbors=3)\n",
    "\n",
    "# Fit/transform\n",
    "prediction_knn_imputed.loc[:, :] = knn_imp.fit_transform(prediction_knn_imputed)\n",
    "\n",
    "prediction_knn_imputed.isnull().sum()"
   ]
  },
  {
   "cell_type": "markdown",
   "metadata": {
    "application/vnd.databricks.v1+cell": {
     "cellMetadata": {
      "byteLimit": 2048000,
      "rowLimit": 10000
     },
     "inputWidgets": {},
     "nuid": "b7d4b1e0-48f3-41e9-a1a0-2ce824e6880a",
     "showTitle": false,
     "title": ""
    }
   },
   "source": [
    "With this imputer, we have to choose the value for k. So, let's use a visual approach to do so. The ideia is to plot the original distribution (of the variable 'Tool wear [min]', in this case) and then impute different values of k and plot the distributions on top of the original."
   ]
  },
  {
   "cell_type": "code",
   "execution_count": 0,
   "metadata": {
    "application/vnd.databricks.v1+cell": {
     "cellMetadata": {
      "byteLimit": 2048000,
      "rowLimit": 10000
     },
     "inputWidgets": {},
     "nuid": "4bc4c767-2893-4308-a74a-32884a76c0d8",
     "showTitle": false,
     "title": ""
    }
   },
   "outputs": [],
   "source": [
    "n_neighbors = [2, 3, 5, 7]\n",
    "\n",
    "fig, ax = plt.subplots(figsize=(16, 8))\n",
    "# Plot the original distribution\n",
    "sns.kdeplot(data['Tool wear [min]'], label=\"Original Distribution\")\n",
    "for k in n_neighbors:\n",
    "    knn_imp = KNNImputer(n_neighbors=k)\n",
    "    prediction_knn_imputed.loc[:, :] = knn_imp.fit_transform(data)\n",
    "    sns.kdeplot(prediction_knn_imputed['Tool wear [min]'], label=f\"Imputed Dist with k={k}\")\n",
    "\n",
    "plt.legend();"
   ]
  },
  {
   "cell_type": "markdown",
   "metadata": {
    "application/vnd.databricks.v1+cell": {
     "cellMetadata": {
      "byteLimit": 2048000,
      "rowLimit": 10000
     },
     "inputWidgets": {},
     "nuid": "2e47d199-6b66-419e-b4cc-c670455f8c8b",
     "showTitle": false,
     "title": ""
    }
   },
   "source": [
    "The closer the imputed distribution comes to the original, the better was the imputation. In this case, k=2 is the best choice."
   ]
  },
  {
   "cell_type": "markdown",
   "metadata": {
    "application/vnd.databricks.v1+cell": {
     "cellMetadata": {
      "byteLimit": 2048000,
      "rowLimit": 10000
     },
     "inputWidgets": {},
     "nuid": "c08e7a1a-83bd-451d-bd03-e9524c9e84d8",
     "showTitle": false,
     "title": ""
    }
   },
   "source": [
    "## Imputing with Iterative Imputer\n",
    "\n",
    "The method takes an arbitrary Sklearn estimator and tries to impute missing values by modeling other features as a function of features with missing values.\n",
    "\n",
    "Here is a step-by-step explanation:\n",
    "\n",
    "1- A regressor is passed to the transformer.\n",
    "\n",
    "2- The first feature (feature_1) with missing values is chosen.\n",
    "\n",
    "3- The data is split into train/test sets where the train set contains all the known values for feature_1, and the test set contains the missing samples.\n",
    "\n",
    "4- The regressor is fit on all the other variables as inputs and with feature_1 as an output.\n",
    "\n",
    "5- The regressor predicts the missing values.\n",
    "\n",
    "6- The transformer continues this process until all features are imputed.\n",
    "\n",
    "7- Steps 1–6 are called a single iteration round, and these steps are carried out multiple times as specified by the max_iter transformer parameter."
   ]
  },
  {
   "cell_type": "code",
   "execution_count": 0,
   "metadata": {
    "application/vnd.databricks.v1+cell": {
     "cellMetadata": {
      "byteLimit": 2048000,
      "rowLimit": 10000
     },
     "inputWidgets": {},
     "nuid": "048ce785-c334-4dcf-b704-e13f15b9e0bf",
     "showTitle": false,
     "title": ""
    }
   },
   "outputs": [],
   "source": [
    "from sklearn.ensemble import ExtraTreesRegressor\n",
    "from sklearn.experimental import enable_iterative_imputer\n",
    "from sklearn.impute import IterativeImputer\n",
    "\n",
    "# Copy the data\n",
    "predictive_ii_imputed = data.copy(deep=True)\n",
    "\n",
    "# Init\n",
    "ii_imp = IterativeImputer(\n",
    "    estimator=ExtraTreesRegressor(), max_iter=10, random_state=1121218\n",
    ")\n",
    "\n",
    "# Tranform\n",
    "predictive_ii_imputed.loc[:, :] = ii_imp.fit_transform(predictive_ii_imputed)"
   ]
  },
  {
   "cell_type": "code",
   "execution_count": 0,
   "metadata": {
    "application/vnd.databricks.v1+cell": {
     "cellMetadata": {
      "byteLimit": 2048000,
      "rowLimit": 10000
     },
     "inputWidgets": {},
     "nuid": "ae4dab77-206d-406b-8ac9-6174bfbf13bc",
     "showTitle": false,
     "title": ""
    }
   },
   "outputs": [],
   "source": [
    "predictive_ii_imputed.isnull().sum()"
   ]
  },
  {
   "cell_type": "markdown",
   "metadata": {
    "application/vnd.databricks.v1+cell": {
     "cellMetadata": {},
     "inputWidgets": {},
     "nuid": "296b5eb0-656d-452c-a1cf-e7b07e98dfe0",
     "showTitle": false,
     "title": ""
    }
   },
   "source": [
    "When all iterations are done, (ii) returns only the last result of the predictions because, through each iteration, the predictions improve."
   ]
  },
  {
   "cell_type": "markdown",
   "metadata": {
    "application/vnd.databricks.v1+cell": {
     "cellMetadata": {
      "byteLimit": 2048000,
      "rowLimit": 10000
     },
     "inputWidgets": {},
     "nuid": "bc5976eb-dd4e-4ed9-9c17-0785a233c5dc",
     "showTitle": false,
     "title": ""
    }
   },
   "source": [
    "**Authors:** Julianada Coelho, Camila Mizokami\n",
    "\n",
    "**References:**\n",
    "\n",
    "https://urldefense.com/v3/__https://scikit-learn.org/stable/modules/generated/sklearn.impute.KNNImputer.html*5Cn__;JQ!!D5dmWrNzYg!L9U_tgz4muzYIdWWOUOBkeemrTncdyadBUgXLUZIgd-bYBCLAWdzkNcB1z0AWWVgNanz43waWrkluqBZGO4bcg$ ",
    "\n",
    "https://urldefense.com/v3/__https://towardsdatascience.com/advanced-missing-data-imputation-methods-with-sklearn-d9875cbcc6eb__;!!D5dmWrNzYg!L9U_tgz4muzYIdWWOUOBkeemrTncdyadBUgXLUZIgd-bYBCLAWdzkNcB1z0AWWVgNanz43waWrkluqAKejsAzw$ "
   ]
  }
 ],
 "metadata": {
  "application/vnd.databricks.v1+notebook": {
   "dashboards": [],
   "language": "python",
   "notebookMetadata": {
    "pythonIndentUnit": 2
   },
   "notebookName": "Class_5_part_1",
   "notebookOrigID": 2920562723392411,
   "widgets": {}
  },
  "kernelspec": {
   "display_name": "Python 3 (ipykernel)",
   "language": "python",
   "name": "python3"
  },
  "language_info": {
   "codemirror_mode": {
    "name": "ipython",
    "version": 3
   },
   "file_extension": ".py",
   "mimetype": "text/x-python",
   "name": "python",
   "nbconvert_exporter": "python",
   "pygments_lexer": "ipython3",
   "version": "3.8.12"
  }
 },
 "nbformat": 4,
 "nbformat_minor": 0
}
