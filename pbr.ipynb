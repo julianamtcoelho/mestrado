{
 "metadata": {
  "language_info": {
   "codemirror_mode": {
    "name": "ipython",
    "version": 3
   },
   "file_extension": ".py",
   "mimetype": "text/x-python",
   "name": "python",
   "nbconvert_exporter": "python",
   "pygments_lexer": "ipython3",
   "version": "3.6.9"
  },
  "orig_nbformat": 2,
  "kernelspec": {
   "name": "python3",
   "display_name": "Python 3.6.9 64-bit",
   "metadata": {
    "interpreter": {
     "hash": "2c1ae64a851e1726d560c47a77abb0191780ded456fdcf255c2706ae4b273ccc"
    }
   }
  }
 },
 "nbformat": 4,
 "nbformat_minor": 2,
 "cells": [
  {
   "cell_type": "code",
   "execution_count": 7,
   "metadata": {},
   "outputs": [],
   "source": [
    "import tensorflow as tf\n",
    "from tensorflow.keras.datasets import mnist\n",
    "from tensorflow.keras.models import load_model\n",
    "\n",
    "import autokeras as ak\n",
    "\n",
    "filename = 'model_autokeras.h5'\n",
    "\n",
    "loaded_model = load_model(\"model_autokeras\", custom_objects=ak.CUSTOM_OBJECTS)\n",
    "\n"
   ]
  },
  {
   "cell_type": "code",
   "execution_count": 8,
   "metadata": {},
   "outputs": [
    {
     "output_type": "execute_result",
     "data": {
      "text/plain": [
       "<tensorflow.python.keras.engine.functional.Functional at 0x7fb2755c9a58>"
      ]
     },
     "metadata": {},
     "execution_count": 8
    }
   ],
   "source": [
    "loaded_model"
   ]
  },
  {
   "cell_type": "code",
   "execution_count": 9,
   "metadata": {},
   "outputs": [
    {
     "output_type": "stream",
     "name": "stdout",
     "text": [
      "Model: \"model\"\n_________________________________________________________________\nLayer (type)                 Output Shape              Param #   \n=================================================================\ninput_1 (InputLayer)         [(None, 9, 12, 3)]        0         \n_________________________________________________________________\ncast_to_float32 (CastToFloat (None, 9, 12, 3)          0         \n_________________________________________________________________\nnormalization (Normalization (None, 9, 12, 3)          7         \n_________________________________________________________________\nconv2d (Conv2D)              (None, 7, 10, 32)         896       \n_________________________________________________________________\nconv2d_1 (Conv2D)            (None, 5, 8, 512)         147968    \n_________________________________________________________________\nglobal_max_pooling2d (Global (None, 512)               0         \n_________________________________________________________________\ndropout (Dropout)            (None, 512)               0         \n_________________________________________________________________\ndense (Dense)                (None, 3)                 1539      \n_________________________________________________________________\nclassification_head_1 (Softm (None, 3)                 0         \n=================================================================\nTotal params: 150,410\nTrainable params: 150,403\nNon-trainable params: 7\n_________________________________________________________________\n"
     ]
    }
   ],
   "source": [
    "# summarize model.\n",
    "loaded_model.summary()"
   ]
  },
  {
   "cell_type": "code",
   "execution_count": null,
   "metadata": {},
   "outputs": [],
   "source": []
  }
 ]
}