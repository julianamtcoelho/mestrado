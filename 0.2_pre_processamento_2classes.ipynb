{
 "cells": [
  {
   "cell_type": "code",
   "execution_count": 1,
   "metadata": {},
   "outputs": [],
   "source": [
    "import pandas as pd\n",
    "import os\n",
    "import cv2\n",
    "import tensorflow as tf]\n",
    "import autokeras as ak\n"
   ]
  },
  {
   "cell_type": "code",
   "execution_count": 2,
   "metadata": {},
   "outputs": [],
   "source": [
    "def crop(image):\n",
    "    h, w, channels = image.shape\n",
    "    center = 1500\n",
    "    x = center - 700\n",
    "    y = center - 300\n",
    "\n",
    "    crop_img = img[int(y):int(y+800), int(x):int(x+500)]\n",
    "    return crop_img"
   ]
  },
  {
   "cell_type": "code",
   "execution_count": 3,
   "metadata": {
    "tags": []
   },
   "outputs": [],
   "source": [
    "# specify your path of directory\n",
    "path = r\"/home/hddjuliana/LAMINA/\"\n",
    "scale_percent = 0.6 # percent of original size\n",
    "width = 1400\n",
    "height = 900 \n",
    "dim = (width, height)\n",
    "  \n",
    "# resize image\n",
    "\n",
    "# call listdir() method\n",
    "# path is a directory of which you want to list\n",
    "directories = os.listdir( path )\n",
    "# This would print all the files and directories\n",
    "X_train=[]\n",
    "y_train=[]\n",
    "for file in directories:\n",
    "    x = file.split(\"-\")\n",
    "    pol=x[2]\n",
    "    x=x[3]\n",
    "    x=x.split(\"_\")\n",
    "    lito=x[0]\n",
    "    #print(lito)\n",
    "    #print(pol)\n",
    "    if ( (pol=='True') & ('GRAINSTONE' in lito)):\n",
    "        l=path+file\n",
    "        img = cv2.imread(l,cv2.COLOR_BGR2RGB)\n",
    "        img=crop(img)\n",
    "        img = cv2.resize(img, dim) \n",
    "        X_train.append(img)\n",
    "        y_train.append('GRAINSTONE')\n",
    "        #cv2.imwrite(grain+file,img)\n",
    "    if ( (pol=='True') & ('ESFER' in lito )):\n",
    "        l=path+file\n",
    "        img = cv2.imread(l,cv2.COLOR_BGR2RGB)\n",
    "        img=crop(img)\n",
    "        img = cv2.resize(img, dim, interpolation = cv2.INTER_AREA) \n",
    "        #cv2.imwrite(lami+file,img)\n",
    "        X_train.append(img)\n",
    "        y_train.append('ESFER')\n",
    "\n"
   ]
  },
  {
   "cell_type": "code",
   "execution_count": 4,
   "metadata": {},
   "outputs": [],
   "source": [
    "from sklearn.model_selection import train_test_split\n",
    "X_train, X_test, y_train, y_test = train_test_split(X_train, y_train, test_size=0.33, random_state=42)"
   ]
  },
  {
   "cell_type": "code",
   "execution_count": 5,
   "metadata": {},
   "outputs": [
    {
     "data": {
      "text/plain": [
       "92"
      ]
     },
     "execution_count": 5,
     "metadata": {},
     "output_type": "execute_result"
    }
   ],
   "source": [
    "len(y_test)"
   ]
  },
  {
   "cell_type": "code",
   "execution_count": 6,
   "metadata": {},
   "outputs": [
    {
     "name": "stdout",
     "output_type": "stream",
     "text": [
      "53\n",
      "39\n"
     ]
    }
   ],
   "source": [
    "print(y_test.count('GRAINSTONE'))\n",
    "print(y_test.count('ESFER'))"
   ]
  },
  {
   "cell_type": "code",
   "execution_count": 7,
   "metadata": {},
   "outputs": [],
   "source": [
    "import numpy as np\n",
    "from sklearn import preprocessing\n",
    "le = preprocessing.LabelEncoder()\n",
    "y_train=le.fit_transform(y_train)\n",
    "y_train=np.array(y_train)"
   ]
  },
  {
   "cell_type": "code",
   "execution_count": 8,
   "metadata": {},
   "outputs": [],
   "source": [
    "X_train=np.array(X_train)"
   ]
  },
  {
   "cell_type": "code",
   "execution_count": 9,
   "metadata": {},
   "outputs": [
    {
     "name": "stdout",
     "output_type": "stream",
     "text": [
      "\n",
      "Search: Running Trial #1\n",
      "\n",
      "Hyperparameter    |Value             |Best Value So Far \n",
      "image_block_1/b...|vanilla           |?                 \n",
      "image_block_1/n...|True              |?                 \n",
      "image_block_1/a...|False             |?                 \n",
      "image_block_1/c...|3                 |?                 \n",
      "image_block_1/c...|1                 |?                 \n",
      "image_block_1/c...|2                 |?                 \n",
      "image_block_1/c...|True              |?                 \n",
      "image_block_1/c...|False             |?                 \n",
      "image_block_1/c...|0.25              |?                 \n",
      "image_block_1/c...|32                |?                 \n",
      "image_block_1/c...|64                |?                 \n",
      "classification_...|flatten           |?                 \n",
      "classification_...|0.5               |?                 \n",
      "optimizer         |adam              |?                 \n",
      "learning_rate     |0.001             |?                 \n",
      "\n",
      "Epoch 1/100\n"
     ]
    }
   ],
   "source": [
    "# Initialize the image classifier.\n",
    "clf = ak.ImageClassifier(\n",
    "    overwrite=True,\n",
    "    max_trials=40)\n",
    "# Feed the image classifier with training data.\n",
    "clf.fit(X_train, y_train, epochs=100)\n"
   ]
  },
  {
   "cell_type": "code",
   "execution_count": null,
   "metadata": {},
   "outputs": [],
   "source": [
    "model = clf.export_model()\n",
    "\n",
    "print(type(model))  # <class 'tensorflow.python.keras.engine.training.Model'>\n",
    "dx\n",
    "model.save(\"model_autokeras_2CLASSES.h5\")"
   ]
  },
  {
   "cell_type": "code",
   "execution_count": null,
   "metadata": {},
   "outputs": [],
   "source": [
    "X_test=np.array(X_test)\n",
    "y_pred=clf.predict(X_test)"
   ]
  },
  {
   "cell_type": "code",
   "execution_count": null,
   "metadata": {},
   "outputs": [],
   "source": [
    "y_test=le.transform(y_test)"
   ]
  },
  {
   "cell_type": "code",
   "execution_count": null,
   "metadata": {},
   "outputs": [],
   "source": [
    "from sklearn.metrics import confusion_matrix"
   ]
  },
  {
   "cell_type": "code",
   "execution_count": null,
   "metadata": {},
   "outputs": [],
   "source": [
    "y_pred=y_pred.ravel()"
   ]
  },
  {
   "cell_type": "code",
   "execution_count": null,
   "metadata": {},
   "outputs": [],
   "source": [
    "y_pred=y_pred.astype(int)"
   ]
  },
  {
   "cell_type": "code",
   "execution_count": null,
   "metadata": {},
   "outputs": [],
   "source": []
  }
 ],
 "metadata": {
  "kernelspec": {
   "display_name": "Python 3",
   "language": "python",
   "name": "python3"
  },
  "language_info": {
   "codemirror_mode": {
    "name": "ipython",
    "version": 3
   },
   "file_extension": ".py",
   "mimetype": "text/x-python",
   "name": "python",
   "nbconvert_exporter": "python",
   "pygments_lexer": "ipython3",
   "version": "3.6.9"
  }
 },
 "nbformat": 4,
 "nbformat_minor": 4
}
